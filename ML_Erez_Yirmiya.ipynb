{
 "cells": [
  {
   "cell_type": "code",
   "execution_count": null,
   "id": "4ea2f3d3",
   "metadata": {},
   "outputs": [],
   "source": [
    "!pip install GEOparse #needed to get the relevant data from GEO (Gene Expression Omnibus)\n",
    "import GEOparse\n",
    "import os\n",
    "import pandas as pd\n",
    "import numpy as np\n",
    "from sklearn.model_selection import train_test_split\n",
    "from sklearn.svm import SVC\n",
    "from sklearn.metrics import confusion_matrix"
   ]
  },
  {
   "cell_type": "code",
   "execution_count": null,
   "id": "71c48d56",
   "metadata": {
    "scrolled": true
   },
   "outputs": [],
   "source": [
    "raw_data = GEOparse.get_GEO(geo = \"GDS2771\", destdir = os.getcwd()) \n",
    "\"\"\"Analysis of large airway epithelial cells from cigarette smokers without cancer, \n",
    "with cancer, and with suspect lung cancer. Results provide insight into the \n",
    "feasibility of using gene expression to detect early stage lung cancer in smokers. Gene expression profile of the different\n",
    "groups (cancer vs non-cnacer). Hopefully we can use the gene expression matrix\n",
    "(numerical value for eacg gene) to classify patiants with and without cancer\"\"\""
   ]
  },
  {
   "cell_type": "code",
   "execution_count": null,
   "id": "3c7a3727",
   "metadata": {},
   "outputs": [],
   "source": [
    "data = raw_data.table.set_index('ID_REF')\n",
    "data.shape ## data has 193 patiants (columns) and 22283 gene expression values for each patiant (rows)"
   ]
  },
  {
   "cell_type": "code",
   "execution_count": null,
   "id": "42d7c95a",
   "metadata": {},
   "outputs": [],
   "source": [
    "data = data.dropna() # clean NA\n",
    "data.shape"
   ]
  },
  {
   "cell_type": "code",
   "execution_count": null,
   "id": "bd030236",
   "metadata": {},
   "outputs": [],
   "source": [
    "cancer_stat = raw_data.columns['disease state'] # this is what I'm trying to predict\n",
    "identifier = data['IDENTIFIER']\n",
    "data = data.drop('IDENTIFIER', axis=1) # irrelevant, need to clean this"
   ]
  },
  {
   "cell_type": "code",
   "execution_count": null,
   "id": "a0227c5c",
   "metadata": {},
   "outputs": [],
   "source": [
    "data = data.T[(cancer_stat!=\"suspect cancer\").values]\n",
    "cancer_stat = cancer_stat[(cancer_stat!=\"suspect cancer\").values] # remove 'suspect cacner'. I will only try to predict cancer vs. non-cancer"
   ]
  },
  {
   "cell_type": "code",
   "execution_count": null,
   "id": "d70d939d",
   "metadata": {},
   "outputs": [],
   "source": [
    "X_train, X_test, y_train, y_test = train_test_split(data, cancer_stat, test_size=0.2,random_state=1) # train test split"
   ]
  },
  {
   "cell_type": "code",
   "execution_count": null,
   "id": "78e6d9a9",
   "metadata": {},
   "outputs": [],
   "source": [
    "model = SVC()\n",
    "model.fit(X_train,y_train)\n",
    "preds = model.predict(X_test)"
   ]
  },
  {
   "cell_type": "code",
   "execution_count": null,
   "id": "63622964",
   "metadata": {},
   "outputs": [],
   "source": [
    "con = pd.DataFrame(confusion_matrix(y_train,model.predict(X_train)),index = [\"cancer\",\"no cancer\"], columns = [\"cancer\",\"no cancer\"])\n",
    "con.index.name = \"class\"\n",
    "con.columns.name = \"preds\"\n",
    "con"
   ]
  },
  {
   "cell_type": "code",
   "execution_count": null,
   "id": "7cc73802",
   "metadata": {},
   "outputs": [],
   "source": [
    "tp = con['cancer'][0]/(con['no cancer'][0]+con['cancer'][0])\n",
    "tn = con['no cancer'][1]/(con['no cancer'][1]+con['cancer'][1])\n",
    "fp = con['cancer'][1]/(con['no cancer'][1]+con['cancer'][1])\n",
    "fn = con['no cancer'][0]/(con['no cancer'][0]+con['cancer'][0])\n",
    "accuracy = (con['cancer'][0]+con['no cancer'][1])/(con.sum()[0:2].sum())\n",
    "print('True Positive Rate: {} \\nTrue Negative Rate: {} \\nFalse Positive Rate: {} \\n\\\n",
    "False Negative Rate: {} \\nAccuracy: {}'.format(tp, tn, fp, fn, accuracy))"
   ]
  },
  {
   "cell_type": "code",
   "execution_count": null,
   "id": "9875d48e",
   "metadata": {},
   "outputs": [],
   "source": []
  }
 ],
 "metadata": {
  "kernelspec": {
   "display_name": "Python 3",
   "language": "python",
   "name": "python3"
  },
  "language_info": {
   "codemirror_mode": {
    "name": "ipython",
    "version": 3
   },
   "file_extension": ".py",
   "mimetype": "text/x-python",
   "name": "python",
   "nbconvert_exporter": "python",
   "pygments_lexer": "ipython3",
   "version": "3.7.6"
  }
 },
 "nbformat": 4,
 "nbformat_minor": 5
}
